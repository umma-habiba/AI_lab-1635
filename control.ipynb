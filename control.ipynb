{
  "nbformat": 4,
  "nbformat_minor": 0,
  "metadata": {
    "colab": {
      "name": "control.ipynb",
      "provenance": [],
      "collapsed_sections": [],
      "authorship_tag": "ABX9TyMgT8zjKRlLlQzZ8in3kGAw",
      "include_colab_link": true
    },
    "kernelspec": {
      "name": "python3",
      "display_name": "Python 3"
    }
  },
  "cells": [
    {
      "cell_type": "markdown",
      "metadata": {
        "id": "view-in-github",
        "colab_type": "text"
      },
      "source": [
        "<a href=\"https://colab.research.google.com/github/umma-habiba/AI_lab-1635/blob/main/control.ipynb\" target=\"_parent\"><img src=\"https://colab.research.google.com/assets/colab-badge.svg\" alt=\"Open In Colab\"/></a>"
      ]
    },
    {
      "cell_type": "markdown",
      "metadata": {
        "id": "cDVT8O78wS-v"
      },
      "source": [
        "# **IF statement**"
      ]
    },
    {
      "cell_type": "code",
      "metadata": {
        "id": "d-n5cKR-va4V",
        "outputId": "54e17b1e-7012-4ff9-b581-1e02bce96c94",
        "colab": {
          "base_uri": "https://localhost:8080/",
          "height": 34
        }
      },
      "source": [
        "grade = 85\n",
        "if grade>=60:\n",
        "   print(\"passed\")"
      ],
      "execution_count": 3,
      "outputs": [
        {
          "output_type": "stream",
          "text": [
            "passed\n"
          ],
          "name": "stdout"
        }
      ]
    },
    {
      "cell_type": "markdown",
      "metadata": {
        "id": "8Pwoj8IJyLxm"
      },
      "source": [
        "# **If else**\n",
        "# **statement**"
      ]
    },
    {
      "cell_type": "code",
      "metadata": {
        "id": "1R65jl8kyKCQ",
        "outputId": "0ae3e6d3-a102-40f5-95b4-17df3e886827",
        "colab": {
          "base_uri": "https://localhost:8080/",
          "height": 34
        }
      },
      "source": [
        "grade =85\n",
        "if grade>=60:\n",
        "  print(\"passed\")\n",
        "else:\n",
        "  print(\"fail\")"
      ],
      "execution_count": 4,
      "outputs": [
        {
          "output_type": "stream",
          "text": [
            "passed\n"
          ],
          "name": "stdout"
        }
      ]
    },
    {
      "cell_type": "markdown",
      "metadata": {
        "id": "FIalRbBo1Fh2"
      },
      "source": [
        "# IF...elif....else statement"
      ]
    },
    {
      "cell_type": "code",
      "metadata": {
        "id": "7oo2taLoyKdv"
      },
      "source": [
        "Flowchart of if...elif...else"
      ],
      "execution_count": null,
      "outputs": []
    },
    {
      "cell_type": "code",
      "metadata": {
        "id": "2SIQErt2yKkL",
        "outputId": "8e73d32c-84be-46e5-df2a-7de042a500cc",
        "colab": {
          "base_uri": "https://localhost:8080/",
          "height": 34
        }
      },
      "source": [
        "grade = 77\n",
        "\n",
        "if grade >= 90:\n",
        "   print('A')\n",
        "elif grade >= 80:\n",
        "   print('B')\n",
        "elif grade >= 70:\n",
        "   print('C')\n",
        "elif grade >= 60:\n",
        "   print('D')\n",
        "else:\n",
        "\n",
        "   print('F')"
      ],
      "execution_count": 13,
      "outputs": [
        {
          "output_type": "stream",
          "text": [
            "C\n"
          ],
          "name": "stdout"
        }
      ]
    },
    {
      "cell_type": "markdown",
      "metadata": {
        "id": "8SQhVCOC2BjW"
      },
      "source": [
        "# While\n",
        "# Statement"
      ]
    },
    {
      "cell_type": "code",
      "metadata": {
        "id": "bWrlhtYtyKtz",
        "outputId": "91380bcb-4150-471c-d358-852b7ad293d3",
        "colab": {
          "base_uri": "https://localhost:8080/",
          "height": 34
        }
      },
      "source": [
        "number = 1\n",
        "\n",
        "while (number<10):\n",
        "  print(number, end=\" \") #print in same line with space using end =\" \"\n",
        "  number+=1"
      ],
      "execution_count": 14,
      "outputs": [
        {
          "output_type": "stream",
          "text": [
            "1 2 3 4 5 6 7 8 9 "
          ],
          "name": "stdout"
        }
      ]
    },
    {
      "cell_type": "code",
      "metadata": {
        "id": "CS_6-6M0yKy-"
      },
      "source": [
        "while statement to find the first power of 3 larger than 50:"
      ],
      "execution_count": null,
      "outputs": []
    },
    {
      "cell_type": "code",
      "metadata": {
        "id": "cVHz4BW6yKjR",
        "outputId": "d7529b70-639d-47a8-cca9-8efde06bd9e3",
        "colab": {
          "base_uri": "https://localhost:8080/",
          "height": 34
        }
      },
      "source": [
        "product = 3\n",
        "\n",
        "while product<=50:\n",
        "  product = product*3\n",
        "\n",
        "print(product)"
      ],
      "execution_count": 15,
      "outputs": [
        {
          "output_type": "stream",
          "text": [
            "81\n"
          ],
          "name": "stdout"
        }
      ]
    },
    {
      "cell_type": "markdown",
      "metadata": {
        "id": "WbfXrgXh3NxF"
      },
      "source": [
        "# For statement"
      ]
    },
    {
      "cell_type": "code",
      "metadata": {
        "id": "rZOzDSciyKc3",
        "outputId": "3c668065-fe81-4dff-9290-f77b9f03a3dd",
        "colab": {
          "base_uri": "https://localhost:8080/",
          "height": 34
        }
      },
      "source": [
        "for character in \"programming\":\n",
        "  print(character, end=\" \")"
      ],
      "execution_count": 16,
      "outputs": [
        {
          "output_type": "stream",
          "text": [
            "p r o g r a m m i n g "
          ],
          "name": "stdout"
        }
      ]
    },
    {
      "cell_type": "markdown",
      "metadata": {
        "id": "dgyArnNr3e9I"
      },
      "source": [
        "Built in Range Function"
      ]
    },
    {
      "cell_type": "markdown",
      "metadata": {
        "id": "PwuIjM6x4lQx"
      },
      "source": [
        "Let’s use a for statement and the built-in range function to iterate precisely 10 times, displaying\n",
        "the values from 0 through 9:"
      ]
    },
    {
      "cell_type": "code",
      "metadata": {
        "id": "PolAGRkMyKWW",
        "outputId": "87486348-fe90-4921-8d58-82ddea1ce3e5",
        "colab": {
          "base_uri": "https://localhost:8080/",
          "height": 34
        }
      },
      "source": [
        "for counter in range(10): print(counter, end=\" \")"
      ],
      "execution_count": 18,
      "outputs": [
        {
          "output_type": "stream",
          "text": [
            "0 1 2 3 4 5 6 7 8 9 "
          ],
          "name": "stdout"
        }
      ]
    },
    {
      "cell_type": "markdown",
      "metadata": {
        "id": "6vuu_63048Dx"
      },
      "source": [
        "Use the range function and a for statement to calculate the total of the integers from 0 through\n",
        "1,000,000."
      ]
    },
    {
      "cell_type": "code",
      "metadata": {
        "id": "KP9GNb044yGM",
        "outputId": "8ff05d27-b618-4a24-82ad-c2634abc0fd5",
        "colab": {
          "base_uri": "https://localhost:8080/",
          "height": 34
        }
      },
      "source": [
        "total = 0\n",
        "for number in range(1000001):\n",
        "  total = total+number\n",
        "\n",
        "print(total)"
      ],
      "execution_count": 19,
      "outputs": [
        {
          "output_type": "stream",
          "text": [
            "500000500000\n"
          ],
          "name": "stdout"
        }
      ]
    },
    {
      "cell_type": "markdown",
      "metadata": {
        "id": "A_cRYLul5i6g"
      },
      "source": [
        "Function range also has two- and three-argument versions. As you’ve seen, range’s one argument\n",
        "version produces a sequence of consecutive integers from 0 up to, but not including, the\n",
        "argument’s value. Function range’s two-argument version produces a sequence of consecutive\n",
        "integers from its frst argument’s value up to, but not including, the second argument’s value, as in:"
      ]
    },
    {
      "cell_type": "code",
      "metadata": {
        "id": "0fn6hKyo4yT3",
        "outputId": "40bc29ae-8181-49d8-9f9b-3fa265653bb7",
        "colab": {
          "base_uri": "https://localhost:8080/",
          "height": 34
        }
      },
      "source": [
        "for number in range(5,10):\n",
        "  print(number, end=\" \")"
      ],
      "execution_count": 20,
      "outputs": [
        {
          "output_type": "stream",
          "text": [
            "5 6 7 8 9 "
          ],
          "name": "stdout"
        }
      ]
    },
    {
      "cell_type": "markdown",
      "metadata": {
        "id": "e1sTp01253Fa"
      },
      "source": [
        "Function range’s three-argument version produces a sequence of integers from its frst argument’s\n",
        "value up to, but not including, the second argument’s value, incrementing by the third argument’s\n",
        "value, which is known as the step:"
      ]
    },
    {
      "cell_type": "code",
      "metadata": {
        "id": "wreDlkVK4ynp",
        "outputId": "6942106c-b94f-46d6-8f43-32e577c90837",
        "colab": {
          "base_uri": "https://localhost:8080/",
          "height": 34
        }
      },
      "source": [
        "for number in range(0,10,2):\n",
        "  print(number, end=\" \")"
      ],
      "execution_count": 22,
      "outputs": [
        {
          "output_type": "stream",
          "text": [
            "0 2 4 6 8 "
          ],
          "name": "stdout"
        }
      ]
    },
    {
      "cell_type": "markdown",
      "metadata": {
        "id": "yX4h77b06Un8"
      },
      "source": [
        "If the third argument is negative, the sequence progresses from the frst argument’s value down to,\n",
        "but not including the second argument’s value, decrementing by the third argument’s value, as in:"
      ]
    },
    {
      "cell_type": "code",
      "metadata": {
        "id": "b8dWlg1q4yxH",
        "outputId": "5a5f2071-c0d3-4bd1-f5f5-8ed035e1a13e",
        "colab": {
          "base_uri": "https://localhost:8080/",
          "height": 34
        }
      },
      "source": [
        "for number in range(10,0,-2):\n",
        "  print(number, end=\" \")"
      ],
      "execution_count": 23,
      "outputs": [
        {
          "output_type": "stream",
          "text": [
            "10 8 6 4 2 "
          ],
          "name": "stdout"
        }
      ]
    },
    {
      "cell_type": "markdown",
      "metadata": {
        "id": "WczvSpto6wRd"
      },
      "source": [
        "Number table print using range function"
      ]
    },
    {
      "cell_type": "markdown",
      "metadata": {
        "id": "Pq8e1MfR68ao"
      },
      "source": [
        "Take an input from user and print the number table"
      ]
    },
    {
      "cell_type": "code",
      "metadata": {
        "id": "IzN2-qt-6vEC",
        "outputId": "21323030-5595-4f04-d0d5-6bd6eb025604",
        "colab": {
          "base_uri": "https://localhost:8080/",
          "height": 34
        }
      },
      "source": [
        "number =   int(input())"
      ],
      "execution_count": 24,
      "outputs": [
        {
          "output_type": "stream",
          "text": [
            "7\n"
          ],
          "name": "stdout"
        }
      ]
    },
    {
      "cell_type": "code",
      "metadata": {
        "id": "eg0IuUuW6vKo",
        "outputId": "8d0587f8-9b07-465b-d42a-94dcbe8d8cee",
        "colab": {
          "base_uri": "https://localhost:8080/",
          "height": 187
        }
      },
      "source": [
        "for i in range(1,11):\n",
        "  print(number,\"X\",i,\"=\",number*i)"
      ],
      "execution_count": 25,
      "outputs": [
        {
          "output_type": "stream",
          "text": [
            "7 X 1 = 7\n",
            "7 X 2 = 14\n",
            "7 X 3 = 21\n",
            "7 X 4 = 28\n",
            "7 X 5 = 35\n",
            "7 X 6 = 42\n",
            "7 X 7 = 49\n",
            "7 X 8 = 56\n",
            "7 X 9 = 63\n",
            "7 X 10 = 70\n"
          ],
          "name": "stdout"
        }
      ]
    },
    {
      "cell_type": "markdown",
      "metadata": {
        "id": "BVdd6FWh7ww8"
      },
      "source": [
        "Nested For Loop"
      ]
    },
    {
      "cell_type": "code",
      "metadata": {
        "id": "DtScXZbJ6vRK",
        "outputId": "15863e78-6586-476d-eb16-0c0e838f4b03",
        "colab": {
          "base_uri": "https://localhost:8080/",
          "height": 136
        }
      },
      "source": [
        "for left in range(7):\n",
        "    for right in range(left,7):\n",
        "        print(\"[\"+str(left)+\"|\"+str(right)+\"]\", end =\" \")\n",
        "    print()"
      ],
      "execution_count": 28,
      "outputs": [
        {
          "output_type": "stream",
          "text": [
            "[0|0] [0|1] [0|2] [0|3] [0|4] [0|5] [0|6] \n",
            "[1|1] [1|2] [1|3] [1|4] [1|5] [1|6] \n",
            "[2|2] [2|3] [2|4] [2|5] [2|6] \n",
            "[3|3] [3|4] [3|5] [3|6] \n",
            "[4|4] [4|5] [4|6] \n",
            "[5|5] [5|6] \n",
            "[6|6] \n"
          ],
          "name": "stdout"
        }
      ]
    },
    {
      "cell_type": "markdown",
      "metadata": {
        "id": "MnCdZWUz8Vn3"
      },
      "source": [
        "Break statement"
      ]
    },
    {
      "cell_type": "code",
      "metadata": {
        "id": "NzNSig_j6vXW",
        "outputId": "3a0e5c7c-beaa-4e12-f26a-1548a08daa5c",
        "colab": {
          "base_uri": "https://localhost:8080/",
          "height": 34
        }
      },
      "source": [
        "for number in range(10):\n",
        " if  number==5:\n",
        "  break\n",
        " print(number, end=\" \")"
      ],
      "execution_count": 30,
      "outputs": [
        {
          "output_type": "stream",
          "text": [
            "0 1 2 3 4 "
          ],
          "name": "stdout"
        }
      ]
    },
    {
      "cell_type": "markdown",
      "metadata": {
        "id": "P_dMjnxQ8ypK"
      },
      "source": [
        "Continue statement"
      ]
    },
    {
      "cell_type": "code",
      "metadata": {
        "id": "532HCePN80v-",
        "outputId": "e0620e6a-e21b-4fe2-b060-6ec71ba9af22",
        "colab": {
          "base_uri": "https://localhost:8080/",
          "height": 34
        }
      },
      "source": [
        "for number in range(10): \n",
        "  if  number==5: continue\n",
        "  print(number, end=\" \")"
      ],
      "execution_count": 32,
      "outputs": [
        {
          "output_type": "stream",
          "text": [
            "0 1 2 3 4 6 7 8 9 "
          ],
          "name": "stdout"
        }
      ]
    }
  ]
}